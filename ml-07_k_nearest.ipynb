{
 "cells": [
  {
   "cell_type": "markdown",
   "metadata": {},
   "source": [
    "# MACHINE LEARNING\n",
    "## 07- K_Nearest Neighbors   "
   ]
  },
  {
   "cell_type": "code",
   "execution_count": 19,
   "metadata": {},
   "outputs": [],
   "source": [
    "import pandas as pd \n",
    "import numpy as np \n",
    "import matplotlib.pyplot as plt \n",
    "import seaborn as sns"
   ]
  },
  {
   "cell_type": "markdown",
   "metadata": {},
   "source": [
    "### STEP-2 Importing Data Set "
   ]
  },
  {
   "cell_type": "code",
   "execution_count": 20,
   "metadata": {},
   "outputs": [
    {
     "data": {
      "text/html": [
       "<div>\n",
       "<style scoped>\n",
       "    .dataframe tbody tr th:only-of-type {\n",
       "        vertical-align: middle;\n",
       "    }\n",
       "\n",
       "    .dataframe tbody tr th {\n",
       "        vertical-align: top;\n",
       "    }\n",
       "\n",
       "    .dataframe thead th {\n",
       "        text-align: right;\n",
       "    }\n",
       "</style>\n",
       "<table border=\"1\" class=\"dataframe\">\n",
       "  <thead>\n",
       "    <tr style=\"text-align: right;\">\n",
       "      <th></th>\n",
       "      <th>age</th>\n",
       "      <th>height</th>\n",
       "      <th>weight</th>\n",
       "      <th>gender</th>\n",
       "      <th>likeness</th>\n",
       "    </tr>\n",
       "  </thead>\n",
       "  <tbody>\n",
       "    <tr>\n",
       "      <th>240</th>\n",
       "      <td>31</td>\n",
       "      <td>160.0</td>\n",
       "      <td>60.0</td>\n",
       "      <td>Male</td>\n",
       "      <td>Pakora</td>\n",
       "    </tr>\n",
       "    <tr>\n",
       "      <th>241</th>\n",
       "      <td>26</td>\n",
       "      <td>172.0</td>\n",
       "      <td>70.0</td>\n",
       "      <td>Male</td>\n",
       "      <td>Biryani</td>\n",
       "    </tr>\n",
       "    <tr>\n",
       "      <th>242</th>\n",
       "      <td>40</td>\n",
       "      <td>178.0</td>\n",
       "      <td>80.0</td>\n",
       "      <td>Male</td>\n",
       "      <td>Biryani</td>\n",
       "    </tr>\n",
       "    <tr>\n",
       "      <th>243</th>\n",
       "      <td>25</td>\n",
       "      <td>5.7</td>\n",
       "      <td>65.0</td>\n",
       "      <td>Male</td>\n",
       "      <td>Biryani</td>\n",
       "    </tr>\n",
       "    <tr>\n",
       "      <th>244</th>\n",
       "      <td>33</td>\n",
       "      <td>157.0</td>\n",
       "      <td>56.0</td>\n",
       "      <td>Female</td>\n",
       "      <td>Samosa</td>\n",
       "    </tr>\n",
       "  </tbody>\n",
       "</table>\n",
       "</div>"
      ],
      "text/plain": [
       "     age  height  weight  gender likeness\n",
       "240   31   160.0    60.0    Male   Pakora\n",
       "241   26   172.0    70.0    Male  Biryani\n",
       "242   40   178.0    80.0    Male  Biryani\n",
       "243   25     5.7    65.0    Male  Biryani\n",
       "244   33   157.0    56.0  Female   Samosa"
      ]
     },
     "execution_count": 20,
     "metadata": {},
     "output_type": "execute_result"
    }
   ],
   "source": [
    "df = pd.read_csv('mldata.csv')\n",
    "df.head(5)\n",
    "df.tail()"
   ]
  },
  {
   "cell_type": "markdown",
   "metadata": {},
   "source": [
    "### STEP-3 Replace gender Categorial value with 0 and 1"
   ]
  },
  {
   "cell_type": "code",
   "execution_count": 21,
   "metadata": {},
   "outputs": [
    {
     "data": {
      "text/plain": [
       "(   age   height  weight  gender likeness\n",
       " 0   27  170.688    76.0       1  Biryani\n",
       " 1   41  165.000    70.0       1  Biryani\n",
       " 2   29  171.000    80.0       1  Biryani\n",
       " 3   27  173.000   102.0       1  Biryani\n",
       " 4   29  164.000    67.0       1  Biryani,\n",
       "      age  height  weight  gender likeness\n",
       " 240   31   160.0    60.0       1   Pakora\n",
       " 241   26   172.0    70.0       1  Biryani\n",
       " 242   40   178.0    80.0       1  Biryani\n",
       " 243   25     5.7    65.0       1  Biryani\n",
       " 244   33   157.0    56.0       0   Samosa)"
      ]
     },
     "execution_count": 21,
     "metadata": {},
     "output_type": "execute_result"
    }
   ],
   "source": [
    "df['gender']= df['gender'].replace('Male',1)\n",
    "df['gender']= df['gender'].replace('Female',0)\n",
    "df.head(),df.tail()"
   ]
  },
  {
   "cell_type": "markdown",
   "metadata": {},
   "source": [
    "### STEP-4 Slection of input (Feature) Based on Four Values and Output Variable "
   ]
  },
  {
   "cell_type": "code",
   "execution_count": 22,
   "metadata": {},
   "outputs": [],
   "source": [
    "X = df[['age','height','weight','gender']]\n",
    "y = df['likeness']"
   ]
  },
  {
   "cell_type": "code",
   "execution_count": 23,
   "metadata": {},
   "outputs": [
    {
     "data": {
      "text/html": [
       "<div>\n",
       "<style scoped>\n",
       "    .dataframe tbody tr th:only-of-type {\n",
       "        vertical-align: middle;\n",
       "    }\n",
       "\n",
       "    .dataframe tbody tr th {\n",
       "        vertical-align: top;\n",
       "    }\n",
       "\n",
       "    .dataframe thead th {\n",
       "        text-align: right;\n",
       "    }\n",
       "</style>\n",
       "<table border=\"1\" class=\"dataframe\">\n",
       "  <thead>\n",
       "    <tr style=\"text-align: right;\">\n",
       "      <th></th>\n",
       "      <th>age</th>\n",
       "      <th>height</th>\n",
       "      <th>weight</th>\n",
       "      <th>gender</th>\n",
       "    </tr>\n",
       "  </thead>\n",
       "  <tbody>\n",
       "    <tr>\n",
       "      <th>0</th>\n",
       "      <td>27</td>\n",
       "      <td>170.688</td>\n",
       "      <td>76.0</td>\n",
       "      <td>1</td>\n",
       "    </tr>\n",
       "    <tr>\n",
       "      <th>1</th>\n",
       "      <td>41</td>\n",
       "      <td>165.000</td>\n",
       "      <td>70.0</td>\n",
       "      <td>1</td>\n",
       "    </tr>\n",
       "    <tr>\n",
       "      <th>2</th>\n",
       "      <td>29</td>\n",
       "      <td>171.000</td>\n",
       "      <td>80.0</td>\n",
       "      <td>1</td>\n",
       "    </tr>\n",
       "    <tr>\n",
       "      <th>3</th>\n",
       "      <td>27</td>\n",
       "      <td>173.000</td>\n",
       "      <td>102.0</td>\n",
       "      <td>1</td>\n",
       "    </tr>\n",
       "    <tr>\n",
       "      <th>4</th>\n",
       "      <td>29</td>\n",
       "      <td>164.000</td>\n",
       "      <td>67.0</td>\n",
       "      <td>1</td>\n",
       "    </tr>\n",
       "  </tbody>\n",
       "</table>\n",
       "</div>"
      ],
      "text/plain": [
       "   age   height  weight  gender\n",
       "0   27  170.688    76.0       1\n",
       "1   41  165.000    70.0       1\n",
       "2   29  171.000    80.0       1\n",
       "3   27  173.000   102.0       1\n",
       "4   29  164.000    67.0       1"
      ]
     },
     "execution_count": 23,
     "metadata": {},
     "output_type": "execute_result"
    }
   ],
   "source": [
    "X.head()"
   ]
  },
  {
   "cell_type": "code",
   "execution_count": 24,
   "metadata": {},
   "outputs": [
    {
     "data": {
      "text/plain": [
       "0    Biryani\n",
       "1    Biryani\n",
       "2    Biryani\n",
       "3    Biryani\n",
       "4    Biryani\n",
       "Name: likeness, dtype: object"
      ]
     },
     "execution_count": 24,
     "metadata": {},
     "output_type": "execute_result"
    }
   ],
   "source": [
    "y.head()"
   ]
  },
  {
   "cell_type": "markdown",
   "metadata": {},
   "source": [
    "### STEP- 5 Machine Learning Algorithm "
   ]
  },
  {
   "cell_type": "code",
   "execution_count": 28,
   "metadata": {},
   "outputs": [
    {
     "data": {
      "text/plain": [
       "array(['Biryani'], dtype=object)"
      ]
     },
     "execution_count": 28,
     "metadata": {},
     "output_type": "execute_result"
    }
   ],
   "source": [
    "from sklearn.neighbors import KNeighborsClassifier\n",
    "\n",
    "# # Create Model and fit \n",
    "model= KNeighborsClassifier(n_neighbors=5)\n",
    "model.fit(X,y)\n",
    "\n",
    "# # Pridiction Out-Put Based on Given value\n",
    "model.predict([[25,160.000,70.0,0]]) \n"
   ]
  },
  {
   "cell_type": "code",
   "execution_count": 37,
   "metadata": {},
   "outputs": [
    {
     "data": {
      "text/plain": [
       "array(['Biryani', 'Biryani', 'Biryani', 'Biryani', 'Biryani', 'Biryani',\n",
       "       'Biryani', 'Biryani', 'Biryani', 'Biryani', 'Biryani', 'Pakora',\n",
       "       'Biryani', 'Biryani', 'Biryani', 'Samosa', 'Biryani', 'Biryani',\n",
       "       'Biryani', 'Biryani', 'Biryani', 'Biryani', 'Pakora', 'Biryani',\n",
       "       'Biryani', 'Biryani', 'Biryani', 'Biryani', 'Biryani', 'Biryani',\n",
       "       'Biryani', 'Biryani', 'Biryani', 'Biryani', 'Biryani', 'Biryani',\n",
       "       'Pakora', 'Biryani', 'Samosa', 'Biryani', 'Biryani', 'Biryani',\n",
       "       'Biryani', 'Biryani', 'Biryani', 'Biryani', 'Samosa', 'Biryani',\n",
       "       'Biryani', 'Biryani', 'Samosa', 'Biryani', 'Biryani', 'Biryani',\n",
       "       'Biryani', 'Biryani', 'Biryani', 'Biryani', 'Biryani', 'Biryani',\n",
       "       'Biryani', 'Biryani', 'Biryani', 'Biryani', 'Biryani', 'Biryani',\n",
       "       'Biryani', 'Biryani', 'Biryani', 'Biryani', 'Biryani', 'Biryani',\n",
       "       'Biryani', 'Biryani', 'Biryani', 'Biryani', 'Biryani', 'Biryani',\n",
       "       'Samosa', 'Biryani', 'Biryani', 'Biryani', 'Biryani', 'Biryani',\n",
       "       'Biryani', 'Pakora', 'Biryani', 'Biryani', 'Biryani', 'Biryani',\n",
       "       'Biryani', 'Biryani', 'Biryani', 'Biryani', 'Biryani', 'Biryani',\n",
       "       'Biryani', 'Biryani', 'Biryani', 'Biryani', 'Biryani', 'Biryani',\n",
       "       'Biryani', 'Biryani', 'Biryani', 'Biryani', 'Biryani', 'Biryani',\n",
       "       'Biryani', 'Biryani', 'Biryani', 'Biryani', 'Biryani', 'Biryani',\n",
       "       'Biryani', 'Biryani', 'Biryani', 'Biryani', 'Biryani', 'Samosa',\n",
       "       'Pakora', 'Biryani', 'Biryani', 'Biryani', 'Biryani', 'Biryani',\n",
       "       'Biryani', 'Biryani', 'Biryani', 'Biryani', 'Biryani', 'Biryani',\n",
       "       'Biryani', 'Biryani', 'Biryani', 'Biryani', 'Biryani', 'Biryani',\n",
       "       'Biryani', 'Biryani', 'Biryani', 'Biryani', 'Biryani', 'Biryani',\n",
       "       'Biryani', 'Samosa', 'Biryani', 'Biryani', 'Biryani', 'Pakora',\n",
       "       'Biryani', 'Biryani', 'Biryani', 'Biryani', 'Biryani', 'Biryani',\n",
       "       'Biryani', 'Biryani', 'Biryani', 'Biryani', 'Biryani', 'Biryani',\n",
       "       'Biryani', 'Biryani', 'Biryani', 'Samosa', 'Biryani', 'Biryani',\n",
       "       'Biryani', 'Biryani', 'Biryani', 'Samosa', 'Biryani', 'Biryani',\n",
       "       'Biryani', 'Biryani', 'Biryani', 'Biryani', 'Biryani', 'Biryani',\n",
       "       'Biryani', 'Biryani', 'Biryani', 'Biryani', 'Biryani', 'Biryani',\n",
       "       'Biryani', 'Biryani', 'Biryani', 'Biryani', 'Biryani', 'Biryani',\n",
       "       'Biryani', 'Biryani', 'Samosa', 'Pakora', 'Samosa', 'Samosa',\n",
       "       'Biryani', 'Biryani', 'Biryani', 'Biryani', 'Biryani', 'Biryani',\n",
       "       'Biryani', 'Biryani', 'Biryani', 'Biryani', 'Biryani', 'Biryani',\n",
       "       'Biryani', 'Biryani', 'Biryani', 'Biryani', 'Samosa', 'Biryani',\n",
       "       'Biryani', 'Biryani', 'Biryani', 'Biryani', 'Biryani', 'Biryani',\n",
       "       'Biryani', 'Biryani', 'Biryani', 'Samosa', 'Biryani', 'Biryani',\n",
       "       'Biryani', 'Biryani', 'Biryani', 'Biryani', 'Biryani', 'Biryani',\n",
       "       'Biryani', 'Biryani', 'Samosa', 'Biryani', 'Samosa', 'Biryani',\n",
       "       'Biryani', 'Biryani', 'Biryani', 'Biryani', 'Biryani'],\n",
       "      dtype=object)"
      ]
     },
     "execution_count": 37,
     "metadata": {},
     "output_type": "execute_result"
    }
   ],
   "source": [
    "model.predict(X)"
   ]
  },
  {
   "cell_type": "markdown",
   "metadata": {},
   "source": [
    "### Matrices For Model Evaluation "
   ]
  },
  {
   "cell_type": "code",
   "execution_count": 30,
   "metadata": {},
   "outputs": [],
   "source": [
    "# How to measure the accuracy of our model \n",
    "# Split Data Into Test and train (80/20)\n",
    "from sklearn.model_selection import  train_test_split\n",
    "from sklearn.metrics import accuracy_score"
   ]
  },
  {
   "cell_type": "markdown",
   "metadata": {},
   "source": [
    "### Split Data Set into Test And Train  "
   ]
  },
  {
   "cell_type": "code",
   "execution_count": 31,
   "metadata": {},
   "outputs": [],
   "source": [
    "x_train,x_test,y_train,y_test = train_test_split(X,y,test_size=0.2,random_state=0)"
   ]
  },
  {
   "cell_type": "code",
   "execution_count": 46,
   "metadata": {},
   "outputs": [
    {
     "data": {
      "text/plain": [
       "array(['Biryani', 'Biryani', 'Biryani', 'Biryani', 'Samosa', 'Biryani',\n",
       "       'Biryani', 'Biryani', 'Biryani', 'Biryani', 'Biryani', 'Biryani',\n",
       "       'Biryani', 'Biryani', 'Biryani', 'Biryani', 'Biryani', 'Biryani',\n",
       "       'Biryani', 'Biryani', 'Biryani', 'Biryani', 'Biryani', 'Biryani',\n",
       "       'Biryani', 'Biryani', 'Biryani', 'Biryani', 'Biryani', 'Biryani',\n",
       "       'Samosa', 'Biryani', 'Biryani', 'Biryani', 'Biryani', 'Biryani',\n",
       "       'Biryani', 'Biryani', 'Biryani', 'Biryani', 'Biryani', 'Biryani',\n",
       "       'Samosa', 'Biryani', 'Biryani', 'Biryani', 'Biryani', 'Biryani',\n",
       "       'Biryani'], dtype=object)"
      ]
     },
     "execution_count": 46,
     "metadata": {},
     "output_type": "execute_result"
    }
   ],
   "source": [
    "# # Create Model and fit model on x_train & y_train\n",
    "model= KNeighborsClassifier(n_neighbors=10)\n",
    "model.fit(x_train,y_train)\n",
    "\n",
    "# # Pridiction Out-Put Based on Given value\n",
    "predicted_values=model.predict(x_test)\n",
    "predicted_values "
   ]
  },
  {
   "cell_type": "markdown",
   "metadata": {},
   "source": [
    "### Checking Accuracy Score of Model predictioon  "
   ]
  },
  {
   "cell_type": "code",
   "execution_count": 47,
   "metadata": {},
   "outputs": [
    {
     "name": "stdout",
     "output_type": "stream",
     "text": [
      "The Accurancy Score for our Model is = 0.6122448979591837\n"
     ]
    }
   ],
   "source": [
    "score = accuracy_score(y_test,predicted_values)\n",
    "print(\"The Accurancy Score for our Model is =\",score)"
   ]
  },
  {
   "cell_type": "code",
   "execution_count": null,
   "metadata": {},
   "outputs": [],
   "source": []
  }
 ],
 "metadata": {
  "interpreter": {
   "hash": "9d50952eb0fd9583ef3234b17d7b352251875fa45f8874f29d03c4bb158a9d2b"
  },
  "kernelspec": {
   "display_name": "Python 3.9.7 ('base')",
   "language": "python",
   "name": "python3"
  },
  "language_info": {
   "codemirror_mode": {
    "name": "ipython",
    "version": 3
   },
   "file_extension": ".py",
   "mimetype": "text/x-python",
   "name": "python",
   "nbconvert_exporter": "python",
   "pygments_lexer": "ipython3",
   "version": "3.9.7"
  },
  "orig_nbformat": 4
 },
 "nbformat": 4,
 "nbformat_minor": 2
}
